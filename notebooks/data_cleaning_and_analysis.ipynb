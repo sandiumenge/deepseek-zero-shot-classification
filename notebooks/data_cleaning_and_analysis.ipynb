{
    "cells": [
        {
            "cell_type": "markdown",
            "metadata": {},
            "source": [
                "# Data Cleaning and Analysis\n",
                "\n",
                "This notebook contains the processes for cleaning and analyzing the Bitcoin tweet dataset. It includes steps for data loading, cleaning, exploratory data analysis, and visualizations."
            ]
        },
        {
            "cell_type": "code",
            "execution_count": null,
            "metadata": {},
            "outputs": [],
            "source": [
                "# Import necessary libraries\n",
                "import pandas as pd\n",
                "import numpy as np\n",
                "import matplotlib.pyplot as plt\n",
                "import seaborn as sns\n",
                "\n",
                "# Set display options for pandas\n",
                "pd.set_option('display.max_columns', None)\n",
                "pd.set_option('display.max_rows', 100)\n",
                "\n",
                "# Load the raw data\n",
                "raw_data_path = '../data/raw/sample_200k-130k_duplicates.csv'\n",
                "df = pd.read_csv(raw_data_path, on_bad_lines='skip')\n",
                "\n",
                "# Display the first few rows of the dataset\n",
                "df.head()"
            ]
        },
        {
            "cell_type": "markdown",
            "metadata": {},
            "source": [
                "## Data Cleaning Steps\n",
                "\n",
                "In this section, we will perform data cleaning operations such as handling missing values, normalizing text data, and removing duplicates."
            ]
        },
        {
            "cell_type": "code",
            "execution_count": null,
            "metadata": {},
            "outputs": [],
            "source": [
                "# Check for missing values\n",
                "missing_values = df.isnull().sum()\n",
                "missing_values[missing_values > 0]\n",
                "\n",
                "# Fill missing values or drop rows/columns as necessary\n",
                "# Example: df.dropna(subset=['text'], inplace=True)\n",
                "\n",
                "# Normalize text data (e.g., lowercasing)\n",
                "df['text'] = df['text'].str.lower()\n",
                "\n",
                "# Remove duplicates\n",
                "df.drop_duplicates(subset=['id'], inplace=True)\n",
                "\n",
                "# Display cleaned data info\n",
                "df.info()"
            ]
        },
        {
            "cell_type": "markdown",
            "metadata": {},
            "source": [
                "## Exploratory Data Analysis (EDA)\n",
                "\n",
                "In this section, we will perform exploratory data analysis to understand the distribution of the data and visualize key insights."
            ]
        },
        {
            "cell_type": "code",
            "execution_count": null,
            "metadata": {},
            "outputs": [],
            "source": [
                "# Visualize the distribution of tweet sentiments\n",
                "plt.figure(figsize=(10, 6))\n",
                "sns.countplot(data=df, x='sentiment')\n",
                "plt.title('Distribution of Tweet Sentiments')\n",
                "plt.xlabel('Sentiment')\n",
                "plt.ylabel('Count')\n",
                "plt.show()\n",
                "\n",
                "# Additional visualizations can be added here"
            ]
        },
        {
            "cell_type": "markdown",
            "metadata": {},
            "source": [
                "## Conclusion\n",
                "\n",
                "This notebook has outlined the data cleaning and exploratory analysis processes for the Bitcoin tweet dataset. Further analysis and modeling can be conducted using the cleaned data."
            ]
        }
    ],
    "metadata": {
        "kernelspec": {
            "display_name": "Python 3",
            "language": "python",
            "name": "python3"
        },
        "language_info": {
            "codemirror_mode": {
                "name": "ipython",
                "version": 3
            },
            "file_extension": ".py",
            "mimetype": "text/x-python",
            "name": "python",
            "nbconvert_exporter": "python",
            "pygments_lexer": "ipython3",
            "version": "3.8.5"
        }
    },
    "nbformat": 4,
    "nbformat_minor": 4
}